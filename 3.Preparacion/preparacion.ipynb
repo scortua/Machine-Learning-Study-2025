{
 "cells": [
  {
   "cell_type": "markdown",
   "id": "9ee30d69",
   "metadata": {},
   "source": [
    "# PREPARACIÓN\n",
    "\n",
    "Para esta parte empezamos con el entorno en el que se trabaja y de la manera más simplificada es con __PYTHON__. Para ello necesitamos un entorno que permita ejecutar todo este tipo de implementaciones de data science y machine learning como lo es [Anaconda](https://www.anaconda.com/download), claro que se pueden utilicar otro tipo de sistemas o entornos que se prefiera.\n",
    "\n",
    "Con ello podemos manejar más correctamente un entorno virtual que permite instalar las dependencias que necesitemos en la version necesaria para no provocar algun tipo de colision y problema en el programa de otros proyectos.\n",
    "\n",
    "Y para poder ejecutar los programas de machine learning se usara el sistema de [JUPYTERNOTEBOOK](https://jupyter.org/)\n",
    "\n"
   ]
  }
 ],
 "metadata": {
  "language_info": {
   "name": "python"
  }
 },
 "nbformat": 4,
 "nbformat_minor": 5
}
