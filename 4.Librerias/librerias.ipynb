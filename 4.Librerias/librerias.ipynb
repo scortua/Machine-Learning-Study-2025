{
 "cells": [
  {
   "cell_type": "markdown",
   "id": "3af93338",
   "metadata": {},
   "source": [
    "# Librerias importantes\n",
    "\n",
    "* Pandas\n",
    "* Matploit\n",
    "* Numpy\n",
    "\n",
    "**Pandas** es una biblioteca fundamental para el análisis y manipulación de datos en Python. Permite trabajar fácilmente con estructuras de datos como DataFrames y Series, facilitando tareas como limpieza, filtrado, agrupamiento y visualización de datos.\n",
    "\n",
    "**Matplotlib** es una biblioteca de visualización que permite crear gráficos estáticos, animados e interactivos en Python. Es ampliamente utilizada para representar datos de manera gráfica, como histogramas, diagramas de dispersión y gráficos de líneas.\n",
    "\n",
    "**NumPy** es la biblioteca principal para el cálculo numérico en Python. Proporciona soporte para arreglos multidimensionales y funciones matemáticas de alto rendimiento, siendo esencial para operaciones científicas y de ingeniería.\n",
    "\n",
    "Para comenzar se tiene un caso introductivo de las 3 en [Pandas](/3.Preparacion/2_Introducción%20a%20Pandas.ipynb), [Numpy](/3.Preparacion/1_Introducción%20a%20NumPy.ipynb) y [Matploit](/3.Preparacion/3_Introducción%20a%20Matplotlib.ipynb)"
   ]
  }
 ],
 "metadata": {
  "language_info": {
   "name": "python"
  }
 },
 "nbformat": 4,
 "nbformat_minor": 5
}
